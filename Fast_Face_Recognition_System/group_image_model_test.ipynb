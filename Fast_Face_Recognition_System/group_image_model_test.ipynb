{
 "cells": [
  {
   "cell_type": "code",
   "execution_count": 3,
   "metadata": {},
   "outputs": [
    {
     "name": "stdout",
     "output_type": "stream",
     "text": [
      "Applied providers: ['CPUExecutionProvider'], with options: {'CPUExecutionProvider': {}}\n",
      "find model: insightface_model/models/buffalo_sc/det_500m.onnx detection [1, 3, '?', '?'] 127.5 128.0\n",
      "Applied providers: ['CPUExecutionProvider'], with options: {'CPUExecutionProvider': {}}\n",
      "find model: insightface_model/models/buffalo_sc/w600k_mbf.onnx recognition ['None', 3, 112, 112] 127.5 127.5\n",
      "set det-size: (640, 640)\n"
     ]
    },
    {
     "name": "stderr",
     "output_type": "stream",
     "text": [
      "2025-01-30 18:59:51.851 Python[86885:1237329] +[IMKClient subclass]: chose IMKClient_Modern\n",
      "2025-01-30 18:59:51.851 Python[86885:1237329] +[IMKInputSession subclass]: chose IMKInputSession_Modern\n"
     ]
    }
   ],
   "source": [
    "import os\n",
    "import cv2\n",
    "import numpy as np\n",
    "import pandas as pd\n",
    "import redis\n",
    "from insightface.app import FaceAnalysis\n",
    "from sklearn.metrics import pairwise\n",
    "import matplotlib.pyplot as plt\n",
    "\n",
    "# Redis Connection\n",
    "hostname = 'redis-12955.crce179.ap-south-1-1.ec2.redns.redis-cloud.com'\n",
    "portnumber = 12955\n",
    "password = '0AXzSpM3wa8utdJhuvvpRF8Iwc4TNVT3'\n",
    "r = redis.StrictRedis(host=hostname, port=portnumber, password=password)\n",
    "\n",
    "# Retrieve Data from Redis\n",
    "retrieved_dict = r.hgetall(name='academy:register')\n",
    "retrieved_series = pd.Series(retrieved_dict)\n",
    "retrieved_series = retrieved_series.apply(lambda x: np.frombuffer(x, dtype=np.float32))\n",
    "index = [x.decode() for x in retrieved_series.index]\n",
    "retrieved_series.index = index\n",
    "retrieved_df = retrieved_series.to_frame().reset_index()\n",
    "retrieved_df.columns = ['name_role', 'facial_features']\n",
    "retrieved_df[['Name', 'Role']] = retrieved_df['name_role'].str.split('@', expand=True)\n",
    "retrieved_df.drop(columns=['name_role'], inplace=True)\n",
    "\n",
    "# Load InsightFace Model\n",
    "faceapp = FaceAnalysis(name='buffalo_sc', root='insightface_model', providers=['CPUExecutionProvider'])\n",
    "faceapp.prepare(ctx_id=0, det_size=(640, 640), det_thresh=0.5)\n",
    "\n",
    "def ml_search_algorithm(dataframe, feature_column, test_vector, name_role=['Name', 'Role'], thresh=0.5):\n",
    "    dataframe = dataframe.copy()\n",
    "    X_list = dataframe[feature_column].tolist()\n",
    "    x = np.asarray(X_list)\n",
    "    \n",
    "    similar = pairwise.cosine_similarity(x, test_vector.reshape(1, -1))\n",
    "    similar_arr = np.array(similar).flatten()\n",
    "    dataframe['cosine'] = similar_arr\n",
    "    \n",
    "    data_filter = dataframe.query(f'cosine >= {thresh}')\n",
    "    if len(data_filter) > 0:\n",
    "        data_filter.reset_index(drop=True, inplace=True)\n",
    "        argmax = data_filter['cosine'].argmax()\n",
    "        person_name, person_role = data_filter.loc[argmax][name_role]\n",
    "    else:\n",
    "        person_name = 'Unknown'\n",
    "        person_role = 'Unknown'\n",
    "    \n",
    "    return person_name, person_role\n",
    "\n",
    "# Load Test Image\n",
    "def recognize_faces(image_path, dataframe):\n",
    "    test_image = cv2.imread(image_path)\n",
    "    results = faceapp.get(test_image)\n",
    "    test_copy = test_image.copy()\n",
    "    \n",
    "    for res in results:\n",
    "        x1, y1, x2, y2 = res['bbox'].astype(int)\n",
    "        embeddings = res['embedding']\n",
    "        person_name, person_role = ml_search_algorithm(dataframe, 'facial_features', test_vector=embeddings)\n",
    "        \n",
    "        color = (0, 0, 255) if person_name == 'Unknown' else (0, 255, 0)\n",
    "        cv2.rectangle(test_copy, (x1, y1), (x2, y2), color, 2)\n",
    "        text_label = f\"{person_name} ({person_role})\" if person_name != 'Unknown' else 'Unknown'\n",
    "        cv2.putText(test_copy, text_label, (x1, y1 - 10), cv2.FONT_HERSHEY_SIMPLEX, 0.5, color, 2)\n",
    "    \n",
    "    cv2.imshow('Face Recognition', test_copy)\n",
    "    cv2.waitKey(0)\n",
    "    cv2.destroyAllWindows()\n",
    "    cv2.waitKey(1)\n",
    "    \n",
    "# Run on a test image\n",
    "image_path = 'test_images/group_test.jpeg'\n",
    "recognize_faces(image_path, retrieved_df)\n"
   ]
  }
 ],
 "metadata": {
  "kernelspec": {
   "display_name": "venv",
   "language": "python",
   "name": "python3"
  },
  "language_info": {
   "codemirror_mode": {
    "name": "ipython",
    "version": 3
   },
   "file_extension": ".py",
   "mimetype": "text/x-python",
   "name": "python",
   "nbconvert_exporter": "python",
   "pygments_lexer": "ipython3",
   "version": "3.11.11"
  }
 },
 "nbformat": 4,
 "nbformat_minor": 2
}
