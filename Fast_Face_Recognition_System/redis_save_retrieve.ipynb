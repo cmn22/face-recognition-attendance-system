{
 "cells": [
  {
   "cell_type": "code",
   "execution_count": 2,
   "metadata": {},
   "outputs": [],
   "source": [
    "import numpy as np\n",
    "import pandas as pd\n",
    "import redis"
   ]
  },
  {
   "cell_type": "markdown",
   "metadata": {},
   "source": [
    "## Connect to redis client"
   ]
  },
  {
   "cell_type": "code",
   "execution_count": 5,
   "metadata": {},
   "outputs": [],
   "source": [
    "# redis-12955.crce179.ap-south-1-1.ec2.redns.redis-cloud.com:12955\n",
    "# 0AXzSpM3wa8utdJhuvvpRF8Iwc4TNVT3\n",
    "\n",
    "hostname = 'redis-12955.crce179.ap-south-1-1.ec2.redns.redis-cloud.com'\n",
    "portnumber = 12955\n",
    "password = '0AXzSpM3wa8utdJhuvvpRF8Iwc4TNVT3'"
   ]
  },
  {
   "cell_type": "code",
   "execution_count": 6,
   "metadata": {},
   "outputs": [],
   "source": [
    "r = redis.StrictRedis(host=hostname, port=portnumber, password=password)"
   ]
  },
  {
   "cell_type": "code",
   "execution_count": 7,
   "metadata": {},
   "outputs": [
    {
     "data": {
      "text/plain": [
       "True"
      ]
     },
     "execution_count": 7,
     "metadata": {},
     "output_type": "execute_result"
    }
   ],
   "source": [
    "r.ping()"
   ]
  },
  {
   "cell_type": "code",
   "execution_count": 17,
   "metadata": {},
   "outputs": [
    {
     "data": {
      "text/plain": [
       "[b'academy:register']"
      ]
     },
     "execution_count": 17,
     "metadata": {},
     "output_type": "execute_result"
    }
   ],
   "source": [
    "r.keys()"
   ]
  },
  {
   "cell_type": "markdown",
   "metadata": {},
   "source": [
    "## Load the data (Numpy zip)"
   ]
  },
  {
   "cell_type": "code",
   "execution_count": 9,
   "metadata": {},
   "outputs": [],
   "source": [
    "np_file = np.load('dataframe_students_teacher.npz', allow_pickle=True)\n",
    "x_values = np_file['arr_0']\n",
    "col_names = np_file['arr_1']"
   ]
  },
  {
   "cell_type": "code",
   "execution_count": 10,
   "metadata": {},
   "outputs": [
    {
     "data": {
      "text/html": [
       "<div>\n",
       "<style scoped>\n",
       "    .dataframe tbody tr th:only-of-type {\n",
       "        vertical-align: middle;\n",
       "    }\n",
       "\n",
       "    .dataframe tbody tr th {\n",
       "        vertical-align: top;\n",
       "    }\n",
       "\n",
       "    .dataframe thead th {\n",
       "        text-align: right;\n",
       "    }\n",
       "</style>\n",
       "<table border=\"1\" class=\"dataframe\">\n",
       "  <thead>\n",
       "    <tr style=\"text-align: right;\">\n",
       "      <th></th>\n",
       "      <th>Name</th>\n",
       "      <th>Role</th>\n",
       "      <th>Facial_Features</th>\n",
       "    </tr>\n",
       "  </thead>\n",
       "  <tbody>\n",
       "    <tr>\n",
       "      <th>0</th>\n",
       "      <td>Angelina Jolie</td>\n",
       "      <td>Student</td>\n",
       "      <td>[0.43231916427612305, 1.0750129699707032, -0.1...</td>\n",
       "    </tr>\n",
       "    <tr>\n",
       "      <th>1</th>\n",
       "      <td>Barack Obama</td>\n",
       "      <td>Teacher</td>\n",
       "      <td>[0.9486202239990235, -0.5583913326263428, 0.09...</td>\n",
       "    </tr>\n",
       "    <tr>\n",
       "      <th>2</th>\n",
       "      <td>Chris Evans</td>\n",
       "      <td>Student</td>\n",
       "      <td>[0.7201780319213867, -1.4683103561401367, -0.7...</td>\n",
       "    </tr>\n",
       "    <tr>\n",
       "      <th>3</th>\n",
       "      <td>Morgan Freeman</td>\n",
       "      <td>Teacher</td>\n",
       "      <td>[0.48572502136230467, -0.6195638179779053, -0....</td>\n",
       "    </tr>\n",
       "    <tr>\n",
       "      <th>4</th>\n",
       "      <td>Scarlett Johansson</td>\n",
       "      <td>Student</td>\n",
       "      <td>[0.19124267101287842, -0.4888328552246094, -1....</td>\n",
       "    </tr>\n",
       "  </tbody>\n",
       "</table>\n",
       "</div>"
      ],
      "text/plain": [
       "                 Name     Role  \\\n",
       "0      Angelina Jolie  Student   \n",
       "1        Barack Obama  Teacher   \n",
       "2         Chris Evans  Student   \n",
       "3      Morgan Freeman  Teacher   \n",
       "4  Scarlett Johansson  Student   \n",
       "\n",
       "                                     Facial_Features  \n",
       "0  [0.43231916427612305, 1.0750129699707032, -0.1...  \n",
       "1  [0.9486202239990235, -0.5583913326263428, 0.09...  \n",
       "2  [0.7201780319213867, -1.4683103561401367, -0.7...  \n",
       "3  [0.48572502136230467, -0.6195638179779053, -0....  \n",
       "4  [0.19124267101287842, -0.4888328552246094, -1....  "
      ]
     },
     "execution_count": 10,
     "metadata": {},
     "output_type": "execute_result"
    }
   ],
   "source": [
    "df = pd.DataFrame(x_values, columns=col_names)\n",
    "df"
   ]
  },
  {
   "cell_type": "code",
   "execution_count": 11,
   "metadata": {},
   "outputs": [
    {
     "data": {
      "text/html": [
       "<div>\n",
       "<style scoped>\n",
       "    .dataframe tbody tr th:only-of-type {\n",
       "        vertical-align: middle;\n",
       "    }\n",
       "\n",
       "    .dataframe tbody tr th {\n",
       "        vertical-align: top;\n",
       "    }\n",
       "\n",
       "    .dataframe thead th {\n",
       "        text-align: right;\n",
       "    }\n",
       "</style>\n",
       "<table border=\"1\" class=\"dataframe\">\n",
       "  <thead>\n",
       "    <tr style=\"text-align: right;\">\n",
       "      <th></th>\n",
       "      <th>Name</th>\n",
       "      <th>Role</th>\n",
       "      <th>Facial_Features</th>\n",
       "      <th>name_role</th>\n",
       "    </tr>\n",
       "  </thead>\n",
       "  <tbody>\n",
       "    <tr>\n",
       "      <th>0</th>\n",
       "      <td>Angelina Jolie</td>\n",
       "      <td>Student</td>\n",
       "      <td>[0.43231916427612305, 1.0750129699707032, -0.1...</td>\n",
       "      <td>Angelina Jolie@Student</td>\n",
       "    </tr>\n",
       "    <tr>\n",
       "      <th>1</th>\n",
       "      <td>Barack Obama</td>\n",
       "      <td>Teacher</td>\n",
       "      <td>[0.9486202239990235, -0.5583913326263428, 0.09...</td>\n",
       "      <td>Barack Obama@Teacher</td>\n",
       "    </tr>\n",
       "    <tr>\n",
       "      <th>2</th>\n",
       "      <td>Chris Evans</td>\n",
       "      <td>Student</td>\n",
       "      <td>[0.7201780319213867, -1.4683103561401367, -0.7...</td>\n",
       "      <td>Chris Evans@Student</td>\n",
       "    </tr>\n",
       "    <tr>\n",
       "      <th>3</th>\n",
       "      <td>Morgan Freeman</td>\n",
       "      <td>Teacher</td>\n",
       "      <td>[0.48572502136230467, -0.6195638179779053, -0....</td>\n",
       "      <td>Morgan Freeman@Teacher</td>\n",
       "    </tr>\n",
       "    <tr>\n",
       "      <th>4</th>\n",
       "      <td>Scarlett Johansson</td>\n",
       "      <td>Student</td>\n",
       "      <td>[0.19124267101287842, -0.4888328552246094, -1....</td>\n",
       "      <td>Scarlett Johansson@Student</td>\n",
       "    </tr>\n",
       "  </tbody>\n",
       "</table>\n",
       "</div>"
      ],
      "text/plain": [
       "                 Name     Role  \\\n",
       "0      Angelina Jolie  Student   \n",
       "1        Barack Obama  Teacher   \n",
       "2         Chris Evans  Student   \n",
       "3      Morgan Freeman  Teacher   \n",
       "4  Scarlett Johansson  Student   \n",
       "\n",
       "                                     Facial_Features  \\\n",
       "0  [0.43231916427612305, 1.0750129699707032, -0.1...   \n",
       "1  [0.9486202239990235, -0.5583913326263428, 0.09...   \n",
       "2  [0.7201780319213867, -1.4683103561401367, -0.7...   \n",
       "3  [0.48572502136230467, -0.6195638179779053, -0....   \n",
       "4  [0.19124267101287842, -0.4888328552246094, -1....   \n",
       "\n",
       "                    name_role  \n",
       "0      Angelina Jolie@Student  \n",
       "1        Barack Obama@Teacher  \n",
       "2         Chris Evans@Student  \n",
       "3      Morgan Freeman@Teacher  \n",
       "4  Scarlett Johansson@Student  "
      ]
     },
     "execution_count": 11,
     "metadata": {},
     "output_type": "execute_result"
    }
   ],
   "source": [
    "df['name_role'] = df['Name'] + '@' + df['Role']\n",
    "df"
   ]
  },
  {
   "cell_type": "code",
   "execution_count": 15,
   "metadata": {},
   "outputs": [
    {
     "data": {
      "text/plain": [
       "5"
      ]
     },
     "execution_count": 15,
     "metadata": {},
     "output_type": "execute_result"
    }
   ],
   "source": [
    "records = df[['name_role', 'Facial_Features']].to_dict(orient='records')"
   ]
  },
  {
   "cell_type": "code",
   "execution_count": 16,
   "metadata": {},
   "outputs": [
    {
     "data": {
      "text/plain": [
       "{'name_role': 'Angelina Jolie@Student',\n",
       " 'Facial_Features': array([ 4.32319164e-01,  1.07501297e+00, -1.28418267e-01, -1.83340302e+00,\n",
       "        -7.27674103e-01, -1.23460455e+00, -2.34214354e-01, -3.72725034e-01,\n",
       "        -6.96603966e-01, -3.52733588e-01, -1.86551499e-01, -8.56555843e-01,\n",
       "        -7.25685883e-01,  1.59820299e+00,  1.89326990e-01, -8.70843172e-02,\n",
       "        -8.61188591e-02,  9.61314678e-02, -4.32047319e-01,  5.77220380e-02,\n",
       "         1.06157017e-01, -1.08427849e+00, -3.68412757e-01, -3.46532869e-01,\n",
       "         5.47845697e-01, -3.21464109e-01,  1.65759449e+00,  3.66927099e-01,\n",
       "         9.40627193e-01,  1.18184509e+00,  4.02608442e-01,  5.15139008e-01,\n",
       "         2.07586975e+00, -1.63650761e+00, -1.61403584e-01, -9.76156831e-02,\n",
       "        -7.65433455e-01,  7.55847740e-01, -1.70595284e+00,  2.02059603e-01,\n",
       "        -1.64418964e+00,  5.47350597e-01,  2.28774929e-01, -3.25514054e-01,\n",
       "         1.91018629e-01,  3.11255717e-01, -1.85861168e+00,  2.54959464e-02,\n",
       "         1.24690866e-01, -4.55972004e-01, -1.25294666e+00,  3.16814828e-01,\n",
       "        -8.48254681e-01,  3.68722987e-01, -7.99343681e-01, -5.33980083e-01,\n",
       "        -6.42063189e-01, -5.24616003e-02,  5.48094988e-02, -5.24554253e-01,\n",
       "        -6.59834385e-01, -1.96330166e-01,  1.29260337e-01, -1.11044800e-01,\n",
       "        -1.78018785e-01, -9.35738182e-01,  9.30987000e-03, -1.80860004e+00,\n",
       "         4.60316515e-01, -1.02924328e+00,  9.62520695e-01, -4.96534014e-01,\n",
       "        -9.53352547e-01, -3.30071020e-01, -4.96250057e-01,  3.49090075e-01,\n",
       "        -2.51722860e-01,  1.66333008e+00,  2.94979882e-01, -1.05791311e+00,\n",
       "        -1.88463464e-02,  7.49368477e-01,  3.38920259e-01, -1.68622100e-01,\n",
       "         1.75924289e-01,  2.47502947e-01,  7.09439468e-01,  7.72490549e-01,\n",
       "         4.02595663e-01, -7.33263016e-02,  1.51256886e+00,  4.11295462e-01,\n",
       "        -7.51059246e-01,  1.26601257e+00, -3.42946172e-02,  2.44700575e-01,\n",
       "         1.59875336e+00,  1.13310986e+00, -1.63950672e+00,  1.14237070e-01,\n",
       "        -4.56414270e-01, -6.43081093e-01, -6.28857231e-01,  9.11353779e-01,\n",
       "         1.46484435e-02, -8.77043247e-01, -1.52056980e-01, -1.15200014e+00,\n",
       "        -1.47871428e+00,  1.25544405e+00, -8.32903385e-01,  9.96898556e-01,\n",
       "        -2.33453751e-02, -3.87890315e-01, -5.88963687e-02,  6.98128128e-01,\n",
       "        -2.24167109e-01,  4.86425543e-01,  3.49294639e-01, -1.72617931e+00,\n",
       "         2.94118834e-01, -2.58572721e-01, -1.14381351e+00,  6.70315647e-01,\n",
       "        -1.29136229e+00,  9.04373455e-01, -2.78417015e-01,  1.26073608e+00,\n",
       "        -1.72762547e+00,  3.44566607e-01, -5.13225913e-02, -7.04645014e-01,\n",
       "         1.05145855e+00, -4.11009520e-02, -6.96966076e-01, -7.82296515e-01,\n",
       "        -1.57594144e-02,  5.24709702e-01, -8.15686035e-01,  1.09420738e+00,\n",
       "         2.29643083e-01, -1.27187214e+00,  2.90968704e-01, -5.94540787e-01,\n",
       "         2.38292503e-01, -3.94290328e-01, -1.10927725e+00, -5.52661610e-01,\n",
       "         8.37957501e-02, -7.66693258e-01,  9.82463837e-01,  1.49689760e+00,\n",
       "         5.02878189e-01, -6.17795181e-01,  7.33924198e-01,  4.04604137e-02,\n",
       "        -8.20620632e-01,  5.47452450e-01, -2.36783767e-01, -3.74487090e-01,\n",
       "        -2.02959347e-01,  6.45468807e-01,  1.49611111e+00,  6.78264952e-01,\n",
       "        -1.01975024e-02,  9.63163471e-01,  1.53538215e-01,  2.98742938e-01,\n",
       "        -1.05692558e+00,  3.65720272e-01,  1.20324621e+00, -1.73379850e-01,\n",
       "        -1.09412947e+00,  6.36764479e-01,  7.55929852e-01,  3.67277265e-01,\n",
       "        -7.44688368e-01,  5.68093252e-01, -1.23280525e-01, -1.45273447e+00,\n",
       "         4.54684496e-01, -1.64993060e-01, -9.52926636e-01, -8.25070572e-01,\n",
       "         2.46755624e-01,  2.51563907e-01, -4.57524419e-02,  8.72163105e-01,\n",
       "        -3.27608490e-01,  7.29086041e-02,  1.38986492e-01, -8.22319031e-01,\n",
       "         1.01562843e+00, -1.02062998e+00,  9.92354393e-01,  9.80808735e-01,\n",
       "        -1.41098127e+00, -1.07826958e+00, -4.74418974e-01,  1.53396826e+00,\n",
       "        -6.22716284e-01,  1.03901949e+00,  1.41922259e-01,  1.44433856e-01,\n",
       "        -1.51163447e-01,  6.98521376e-01,  4.15085459e-01, -5.42820835e-01,\n",
       "         8.23145676e-01, -2.05909514e-01, -6.25895405e-01, -8.62084770e-01,\n",
       "         3.71475577e-02,  8.30595112e-01, -1.45498610e+00, -1.40073071e+00,\n",
       "        -1.15516243e+00, -6.14581871e-01, -8.33800030e-01, -1.57396209e-01,\n",
       "         9.44637299e-01, -3.54883766e-01, -9.49759722e-02, -1.06924448e+00,\n",
       "         1.16633501e+00, -1.80209601e-01,  1.17413111e+00, -1.39521658e-01,\n",
       "         1.48579779e+00,  4.30716813e-02, -2.83594704e-01,  8.35332096e-02,\n",
       "        -1.26315279e+00, -1.04051857e+00,  1.16386986e+00,  2.74141192e-01,\n",
       "         1.69730091e+00, -8.17701721e-01, -7.79378319e-01, -5.79831028e-01,\n",
       "        -1.36576595e+00,  1.28037834e+00, -5.96179104e-01,  1.26401024e+00,\n",
       "         6.71153593e-01, -3.56924129e-01, -5.91768789e-01, -5.93472290e-01,\n",
       "        -9.73415470e-01, -5.45017767e-01, -9.83480644e-01, -1.30745709e-02,\n",
       "         2.32183385e-01, -1.18049765e-01,  1.21620095e-01,  1.10858727e+00,\n",
       "         3.96247101e-01,  1.43362558e-01, -4.21113551e-02, -7.89724922e-01,\n",
       "         6.45446897e-02, -2.99142933e-01,  7.30945647e-02,  2.18493767e+00,\n",
       "        -2.60850906e-01, -1.40968542e+00, -1.58535230e-01, -3.46912241e-01,\n",
       "         1.24007387e+00, -1.36679354e+00, -1.56030476e-01,  5.94971228e-01,\n",
       "         1.73047237e+00, -9.88306046e-01, -3.93326592e-01, -7.01106453e-01,\n",
       "         1.44662380e+00, -6.17961931e-01,  5.04648924e-01,  7.56948948e-01,\n",
       "         6.66752577e-02, -4.75309849e-01, -3.37818694e-01, -1.46448112e-01,\n",
       "        -1.36031294e-01, -2.19039273e-01, -9.51098251e-01, -5.17332172e-01,\n",
       "         8.49241638e-01, -2.31337452e-01,  1.48642082e+00, -4.68197060e-01,\n",
       "         6.72936106e-01, -2.32813954e-01,  3.63309145e-01,  2.82704997e-01,\n",
       "         1.47289820e+00,  3.66914845e-01, -2.05165982e-01,  6.68130934e-02,\n",
       "        -1.71685600e-01, -2.06398845e-02,  9.18735981e-01,  3.13296866e-01,\n",
       "        -1.07345009e+00, -5.24802923e-01, -1.45585370e-01, -1.26753569e-01,\n",
       "        -1.94036007e-01, -1.00267611e+00,  1.99290776e-01, -5.48644400e-01,\n",
       "         3.81594896e-04,  1.37629271e+00,  1.54010401e+00, -9.15265656e-01,\n",
       "         5.36568022e-01, -6.20855761e-01,  2.74591863e-02,  2.36374092e-01,\n",
       "        -7.27437162e-01, -2.39212370e-01,  1.40718660e+00,  6.25925970e-01,\n",
       "        -4.32763338e-01,  8.34554482e-01,  1.28096116e-01, -5.36347008e-01,\n",
       "         6.99264812e-01, -4.81537253e-02,  2.13899918e+00, -1.01484203e+00,\n",
       "        -8.76547718e-01, -3.04124093e-01, -4.30152655e-01,  3.75468820e-02,\n",
       "        -4.62476349e-01, -7.92709589e-01,  5.59635115e-01,  4.94359875e-01,\n",
       "         3.89712358e-01, -1.46052608e+00, -3.94276929e-01,  5.18567371e-01,\n",
       "        -1.53444519e+00,  2.69562702e+00,  1.01954460e-01,  6.38761222e-02,\n",
       "         7.19935417e-01,  4.26291656e-01,  1.22619181e+00, -7.23562598e-02,\n",
       "         8.77614403e-01, -7.60688114e-01,  6.69781590e-01,  1.15018713e-01,\n",
       "        -3.32358980e-01,  1.99744296e-01, -1.28007927e+00,  3.30818748e-01,\n",
       "         6.45806015e-02, -2.10418940e-01, -2.36484623e-01, -2.23119140e-01,\n",
       "         9.20386124e-01,  2.04339695e-01,  1.45631146e-01, -2.80437517e-01,\n",
       "         2.10923910e-01,  4.20733070e-01,  1.09360809e+00, -3.83299661e-01,\n",
       "         2.60160732e-01,  2.43038583e-01,  7.71962762e-02, -4.95970428e-02,\n",
       "         3.73219085e-01, -1.88671837e+00,  2.22257733e-01, -4.77145958e-01,\n",
       "         2.01455116e+00,  5.17480564e-01, -1.10605726e+00,  1.20243764e-01,\n",
       "         1.88375425e-01,  8.79146457e-02,  9.96193469e-02, -5.29636717e-01,\n",
       "        -2.11291924e+00,  3.48203754e-01,  1.42084246e+00, -1.39345303e+00,\n",
       "        -7.85202122e-01,  2.15677223e+00,  9.78111744e-02,  1.37229719e+00,\n",
       "         1.77628593e+00,  6.61086440e-02, -7.62318373e-01, -7.79397249e-02,\n",
       "         1.63072324e-01, -1.30163050e+00,  4.16231918e-01, -6.93110228e-01,\n",
       "         4.38331985e-01,  2.30013585e-01, -5.62236834e-01,  1.91639118e+00,\n",
       "         1.01415281e+00,  1.60052452e+00, -1.72453442e+00, -7.32675552e-01,\n",
       "         3.29397964e-01, -3.74706197e-01, -1.04034901e+00,  2.47709346e-01,\n",
       "        -5.94552660e-01,  5.19228315e-01, -3.14191198e-01, -7.38278151e-01,\n",
       "        -3.90469241e-01, -2.91326118e-01,  1.38562894e-01,  6.93797779e-01,\n",
       "         7.45403862e-01, -9.04141140e-01, -1.11508484e+00, -1.70914799e-02,\n",
       "        -2.13618457e-02, -2.28922796e-01,  4.43113804e-01, -8.86289120e-01,\n",
       "         4.84067106e-01,  4.21404541e-02,  1.18883877e+00, -1.80869150e-01,\n",
       "        -1.99138403e-02, -1.08449249e+00,  5.30364180e-01,  7.44371223e-01,\n",
       "         5.08166790e-02, -1.19210398e-01,  1.77758980e+00, -7.82131100e-01,\n",
       "        -1.27929649e+00,  5.86599255e-01, -1.39948673e+00,  1.00172863e+00,\n",
       "        -1.53574429e+00, -4.90043068e-01,  2.90189958e-01, -1.32980156e-01,\n",
       "         9.11631203e-01,  1.79203739e+00,  3.82535362e-01,  1.04063368e+00,\n",
       "         1.32205665e-01,  6.33127499e-01,  1.05594988e+00,  3.58450937e-01,\n",
       "         3.95094538e-01,  9.33288574e-01, -3.64027810e-01,  3.86970043e-01,\n",
       "         1.02982016e+00,  9.97691095e-02, -5.14014435e-01,  2.50002891e-02,\n",
       "        -6.81139374e-01,  3.03878129e-02,  4.12354374e-01,  2.27172184e-01,\n",
       "        -7.50266600e-01,  9.18470764e-01, -1.78132892e-01, -1.38735218e+00,\n",
       "         6.44673347e-02,  1.53172874e-01, -1.08443384e+00, -3.91184950e-01,\n",
       "        -4.39658689e-01, -3.35707426e-01,  1.80985699e+00,  4.05947924e-01,\n",
       "        -1.27366161e+00, -2.09400272e-01,  1.12366486e-01, -8.41167736e-01,\n",
       "         3.01943898e-01, -6.90574980e-01, -1.43807192e+00, -2.62388897e-01,\n",
       "        -1.30723372e+00, -8.03875923e-04,  8.07979012e-01,  7.75791073e-01,\n",
       "        -2.14924860e-01, -5.42408419e-01, -1.14448309e+00, -2.85509729e-01,\n",
       "        -1.67841148e+00,  1.43649092e+00, -5.97982502e-01, -5.13460302e-01,\n",
       "        -1.88454771e-01, -8.02824116e-01,  1.12082834e+00, -4.95031738e-01,\n",
       "        -3.65673494e-01,  1.40422478e+00, -5.18426895e-01, -8.81394005e-01])}"
      ]
     },
     "execution_count": 16,
     "metadata": {},
     "output_type": "execute_result"
    }
   ],
   "source": [
    "records[0]"
   ]
  },
  {
   "cell_type": "markdown",
   "metadata": {},
   "source": [
    "## Save data in Redis"
   ]
  },
  {
   "cell_type": "markdown",
   "metadata": {},
   "source": [
    "- redis hashes\n",
    "- keyname = test:register"
   ]
  },
  {
   "cell_type": "code",
   "execution_count": 19,
   "metadata": {},
   "outputs": [],
   "source": [
    "for record in records:\n",
    "  name_role = record['name_role']\n",
    "  vector = record['Facial_Features']\n",
    "\n",
    "  # convert numpy array into bytes\n",
    "  vector_bytes = vector.tobytes()\n",
    "\n",
    "  # save data into redis cloud\n",
    "  r.hset(name='test:register', key=name_role, value=vector_bytes)"
   ]
  },
  {
   "cell_type": "markdown",
   "metadata": {},
   "source": [
    "## Retrieve Data from Redis"
   ]
  },
  {
   "cell_type": "code",
   "execution_count": 20,
   "metadata": {},
   "outputs": [
    {
     "data": {
      "text/html": [
       "<div>\n",
       "<style scoped>\n",
       "    .dataframe tbody tr th:only-of-type {\n",
       "        vertical-align: middle;\n",
       "    }\n",
       "\n",
       "    .dataframe tbody tr th {\n",
       "        vertical-align: top;\n",
       "    }\n",
       "\n",
       "    .dataframe thead th {\n",
       "        text-align: right;\n",
       "    }\n",
       "</style>\n",
       "<table border=\"1\" class=\"dataframe\">\n",
       "  <thead>\n",
       "    <tr style=\"text-align: right;\">\n",
       "      <th></th>\n",
       "      <th>name_role</th>\n",
       "      <th>facial_features</th>\n",
       "    </tr>\n",
       "  </thead>\n",
       "  <tbody>\n",
       "    <tr>\n",
       "      <th>0</th>\n",
       "      <td>Morgan Freeman@Teacher</td>\n",
       "      <td>[2.720083e+23, 1.7428625, -0.0, -1.7798909, 2....</td>\n",
       "    </tr>\n",
       "    <tr>\n",
       "      <th>1</th>\n",
       "      <td>Barack Obama@Teacher</td>\n",
       "      <td>[-107374184.0, 1.862155, -0.0, -1.7645978, 1.5...</td>\n",
       "    </tr>\n",
       "    <tr>\n",
       "      <th>2</th>\n",
       "      <td>Chris Evans@Student</td>\n",
       "      <td>[-107374184.0, 1.8050444, 0.0, -1.9335388, 0.0...</td>\n",
       "    </tr>\n",
       "    <tr>\n",
       "      <th>3</th>\n",
       "      <td>Angelina Jolie@Student</td>\n",
       "      <td>[0.0, 1.7161596, -107374184.0, 1.8843765, -0.0...</td>\n",
       "    </tr>\n",
       "    <tr>\n",
       "      <th>4</th>\n",
       "      <td>Scarlett Johansson@Student</td>\n",
       "      <td>[-107374184.0, 1.5662426, -1.5881868e-23, -1.7...</td>\n",
       "    </tr>\n",
       "  </tbody>\n",
       "</table>\n",
       "</div>"
      ],
      "text/plain": [
       "                    name_role  \\\n",
       "0      Morgan Freeman@Teacher   \n",
       "1        Barack Obama@Teacher   \n",
       "2         Chris Evans@Student   \n",
       "3      Angelina Jolie@Student   \n",
       "4  Scarlett Johansson@Student   \n",
       "\n",
       "                                     facial_features  \n",
       "0  [2.720083e+23, 1.7428625, -0.0, -1.7798909, 2....  \n",
       "1  [-107374184.0, 1.862155, -0.0, -1.7645978, 1.5...  \n",
       "2  [-107374184.0, 1.8050444, 0.0, -1.9335388, 0.0...  \n",
       "3  [0.0, 1.7161596, -107374184.0, 1.8843765, -0.0...  \n",
       "4  [-107374184.0, 1.5662426, -1.5881868e-23, -1.7...  "
      ]
     },
     "execution_count": 20,
     "metadata": {},
     "output_type": "execute_result"
    }
   ],
   "source": [
    "# Retrieve Records from Redis\n",
    "retrive_dict = r.hgetall(name='test:register')\n",
    "retrive_series = pd.Series(retrive_dict)\n",
    "retrive_series\n",
    "\n",
    "# Convert binary data to numpy float32 arrays\n",
    "retrive_series = retrive_series.apply(lambda x: np.frombuffer(x, dtype=np.float32))\n",
    "\n",
    "# Decode the index values\n",
    "index = retrive_series.index\n",
    "index = list(map(lambda x: x.decode(), index))\n",
    "retrive_series.index = index\n",
    "\n",
    "# Convert series to dataframe and reset index\n",
    "retrive_df = retrive_series.to_frame().reset_index()\n",
    "retrive_df.columns = ['name_role', 'facial_features']\n",
    "retrive_df"
   ]
  }
 ],
 "metadata": {
  "kernelspec": {
   "display_name": "venv",
   "language": "python",
   "name": "python3"
  },
  "language_info": {
   "codemirror_mode": {
    "name": "ipython",
    "version": 3
   },
   "file_extension": ".py",
   "mimetype": "text/x-python",
   "name": "python",
   "nbconvert_exporter": "python",
   "pygments_lexer": "ipython3",
   "version": "3.11.11"
  }
 },
 "nbformat": 4,
 "nbformat_minor": 2
}
